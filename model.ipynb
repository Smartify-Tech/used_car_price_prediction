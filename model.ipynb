{
 "cells": [
  {
   "cell_type": "markdown",
   "id": "38a741fc-44eb-4ca2-beaf-eb06e4d9f1d8",
   "metadata": {},
   "source": [
    "## Multiple Linear Regression on Car Dataset"
   ]
  },
  {
   "cell_type": "markdown",
   "id": "da4fdfb8-3fa4-4d8b-849f-00de6f603300",
   "metadata": {},
   "source": [
    "<p style = \"background-color: #f0f5f5; \n",
    "            border-radius: 5px; padding: 15px 30px;\n",
    "            font-size: 15px; line-height: 2em\">\n",
    "This notebook is based on the cleand dataset of used_car prices. The aim of this notebook solely on building a model to accurately predict as much as possible the price of a used car given some predictors associated with it. Hence I'm modelling for prediction alone. with little inference\n",
    "</p>"
   ]
  },
  {
   "cell_type": "code",
   "execution_count": 1,
   "id": "0bae86a6-4324-4549-b5ac-2a1e647dfa3d",
   "metadata": {},
   "outputs": [],
   "source": [
    "#import libraries\n",
    "import pandas as pd\n",
    "import matplotlib.pyplot as plt\n",
    "import numpy as np\n",
    "import seaborn as sns\n",
    "\n",
    "import warnings\n",
    "warnings.filterwarnings('ignore')"
   ]
  },
  {
   "cell_type": "code",
   "execution_count": 2,
   "id": "000bbb5d-1795-429c-af2d-92711c64f233",
   "metadata": {},
   "outputs": [],
   "source": [
    "car_data = pd.read_csv('./data/car_df_cleaned.csv')"
   ]
  },
  {
   "cell_type": "code",
   "execution_count": 3,
   "id": "a655744b-3a53-4a40-ae69-60b65a88b14c",
   "metadata": {},
   "outputs": [
    {
     "data": {
      "text/html": [
       "<div>\n",
       "<style scoped>\n",
       "    .dataframe tbody tr th:only-of-type {\n",
       "        vertical-align: middle;\n",
       "    }\n",
       "\n",
       "    .dataframe tbody tr th {\n",
       "        vertical-align: top;\n",
       "    }\n",
       "\n",
       "    .dataframe thead th {\n",
       "        text-align: right;\n",
       "    }\n",
       "</style>\n",
       "<table border=\"1\" class=\"dataframe\">\n",
       "  <thead>\n",
       "    <tr style=\"text-align: right;\">\n",
       "      <th></th>\n",
       "      <th>Unnamed: 0</th>\n",
       "      <th>year</th>\n",
       "      <th>make</th>\n",
       "      <th>model</th>\n",
       "      <th>trim</th>\n",
       "      <th>body</th>\n",
       "      <th>transmission</th>\n",
       "      <th>state</th>\n",
       "      <th>condition</th>\n",
       "      <th>odometer</th>\n",
       "      <th>color</th>\n",
       "      <th>interior</th>\n",
       "      <th>seller</th>\n",
       "      <th>mmr</th>\n",
       "      <th>sellingprice</th>\n",
       "      <th>saledate</th>\n",
       "    </tr>\n",
       "  </thead>\n",
       "  <tbody>\n",
       "    <tr>\n",
       "      <th>0</th>\n",
       "      <td>0</td>\n",
       "      <td>2015</td>\n",
       "      <td>kia</td>\n",
       "      <td>Sorento</td>\n",
       "      <td>LX</td>\n",
       "      <td>suv</td>\n",
       "      <td>automatic</td>\n",
       "      <td>ca</td>\n",
       "      <td>5.0</td>\n",
       "      <td>16639.0</td>\n",
       "      <td>white</td>\n",
       "      <td>black</td>\n",
       "      <td>kia motors america, inc</td>\n",
       "      <td>20500</td>\n",
       "      <td>21500</td>\n",
       "      <td>2014-12-16 04:30:00+00:00</td>\n",
       "    </tr>\n",
       "    <tr>\n",
       "      <th>1</th>\n",
       "      <td>1</td>\n",
       "      <td>2015</td>\n",
       "      <td>kia</td>\n",
       "      <td>Sorento</td>\n",
       "      <td>LX</td>\n",
       "      <td>suv</td>\n",
       "      <td>automatic</td>\n",
       "      <td>ca</td>\n",
       "      <td>5.0</td>\n",
       "      <td>9393.0</td>\n",
       "      <td>white</td>\n",
       "      <td>beige</td>\n",
       "      <td>kia motors america, inc</td>\n",
       "      <td>20800</td>\n",
       "      <td>21500</td>\n",
       "      <td>2014-12-16 04:30:00+00:00</td>\n",
       "    </tr>\n",
       "    <tr>\n",
       "      <th>2</th>\n",
       "      <td>2</td>\n",
       "      <td>2014</td>\n",
       "      <td>bmw</td>\n",
       "      <td>3 Series</td>\n",
       "      <td>328i SULEV</td>\n",
       "      <td>sedan</td>\n",
       "      <td>automatic</td>\n",
       "      <td>ca</td>\n",
       "      <td>4.5</td>\n",
       "      <td>1331.0</td>\n",
       "      <td>gray</td>\n",
       "      <td>black</td>\n",
       "      <td>financial services remarketing (lease)</td>\n",
       "      <td>31900</td>\n",
       "      <td>30000</td>\n",
       "      <td>2015-01-14 20:30:00+00:00</td>\n",
       "    </tr>\n",
       "    <tr>\n",
       "      <th>3</th>\n",
       "      <td>3</td>\n",
       "      <td>2015</td>\n",
       "      <td>volvo</td>\n",
       "      <td>S60</td>\n",
       "      <td>T5</td>\n",
       "      <td>sedan</td>\n",
       "      <td>automatic</td>\n",
       "      <td>ca</td>\n",
       "      <td>4.1</td>\n",
       "      <td>14282.0</td>\n",
       "      <td>white</td>\n",
       "      <td>black</td>\n",
       "      <td>volvo na rep/world omni</td>\n",
       "      <td>27500</td>\n",
       "      <td>27750</td>\n",
       "      <td>2015-01-28 20:30:00+00:00</td>\n",
       "    </tr>\n",
       "    <tr>\n",
       "      <th>4</th>\n",
       "      <td>4</td>\n",
       "      <td>2014</td>\n",
       "      <td>bmw</td>\n",
       "      <td>6 Series Gran Coupe</td>\n",
       "      <td>650i</td>\n",
       "      <td>sedan</td>\n",
       "      <td>automatic</td>\n",
       "      <td>ca</td>\n",
       "      <td>4.3</td>\n",
       "      <td>2641.0</td>\n",
       "      <td>gray</td>\n",
       "      <td>black</td>\n",
       "      <td>financial services remarketing (lease)</td>\n",
       "      <td>66000</td>\n",
       "      <td>67000</td>\n",
       "      <td>2014-12-18 04:30:00+00:00</td>\n",
       "    </tr>\n",
       "  </tbody>\n",
       "</table>\n",
       "</div>"
      ],
      "text/plain": [
       "   Unnamed: 0  year   make                model        trim   body  \\\n",
       "0           0  2015    kia              Sorento          LX    suv   \n",
       "1           1  2015    kia              Sorento          LX    suv   \n",
       "2           2  2014    bmw             3 Series  328i SULEV  sedan   \n",
       "3           3  2015  volvo                  S60          T5  sedan   \n",
       "4           4  2014    bmw  6 Series Gran Coupe        650i  sedan   \n",
       "\n",
       "  transmission state  condition  odometer  color interior  \\\n",
       "0    automatic    ca        5.0   16639.0  white    black   \n",
       "1    automatic    ca        5.0    9393.0  white    beige   \n",
       "2    automatic    ca        4.5    1331.0   gray    black   \n",
       "3    automatic    ca        4.1   14282.0  white    black   \n",
       "4    automatic    ca        4.3    2641.0   gray    black   \n",
       "\n",
       "                                   seller    mmr  sellingprice  \\\n",
       "0                 kia motors america, inc  20500         21500   \n",
       "1                 kia motors america, inc  20800         21500   \n",
       "2  financial services remarketing (lease)  31900         30000   \n",
       "3                 volvo na rep/world omni  27500         27750   \n",
       "4  financial services remarketing (lease)  66000         67000   \n",
       "\n",
       "                    saledate  \n",
       "0  2014-12-16 04:30:00+00:00  \n",
       "1  2014-12-16 04:30:00+00:00  \n",
       "2  2015-01-14 20:30:00+00:00  \n",
       "3  2015-01-28 20:30:00+00:00  \n",
       "4  2014-12-18 04:30:00+00:00  "
      ]
     },
     "execution_count": 3,
     "metadata": {},
     "output_type": "execute_result"
    }
   ],
   "source": [
    "car_data.head()"
   ]
  },
  {
   "cell_type": "code",
   "execution_count": 4,
   "id": "65294150-2788-4c08-a8b2-1a253570c968",
   "metadata": {
    "tags": []
   },
   "outputs": [],
   "source": [
    "#remove unwanted variables\n",
    "car_data = car_data.drop('Unnamed: 0', axis = 1)"
   ]
  },
  {
   "cell_type": "code",
   "execution_count": 5,
   "id": "e2b853f5-b762-4f9e-9f49-1297b91296b4",
   "metadata": {
    "tags": []
   },
   "outputs": [
    {
     "data": {
      "text/plain": [
       "(533660, 15)"
      ]
     },
     "execution_count": 5,
     "metadata": {},
     "output_type": "execute_result"
    }
   ],
   "source": [
    "car_data.shape"
   ]
  },
  {
   "cell_type": "markdown",
   "id": "3fc492f7-8d3b-4fee-bf29-6efa923df2a9",
   "metadata": {},
   "source": [
    "<p  style = \"background-color: #f0f5f5; \n",
    "            border-radius: 5px; padding: 15px 30px;\n",
    "            font-size: 15px; line-height: 2em\">  \n",
    "    This dataset consists of <code>533660</code> data points and <code>15</code> potential predictors. However the main variables needed for this case are  <code>'year', 'trim', 'make', 'body', 'odometer', 'condition', 'model', 'transmission'</code>. The target is the price represented by the <code>sellingprice</code>\n",
    "   <br> NB: the trim variable represents a particular version of a model with a particular set of configuration,\n",
    "    \n",
    "</p>"
   ]
  },
  {
   "cell_type": "code",
   "execution_count": 6,
   "id": "22b64e7f-348c-44e8-8374-bf81e94c9683",
   "metadata": {},
   "outputs": [],
   "source": [
    "#select required columns for the model\n",
    "car_var = car_data.drop(columns=['mmr', 'saledate', 'seller', 'state', 'color', 'interior'])"
   ]
  },
  {
   "cell_type": "code",
   "execution_count": 7,
   "id": "d6e7a9ff-2db6-4580-a776-317bdd1e1555",
   "metadata": {},
   "outputs": [
    {
     "data": {
      "text/html": [
       "<div>\n",
       "<style scoped>\n",
       "    .dataframe tbody tr th:only-of-type {\n",
       "        vertical-align: middle;\n",
       "    }\n",
       "\n",
       "    .dataframe tbody tr th {\n",
       "        vertical-align: top;\n",
       "    }\n",
       "\n",
       "    .dataframe thead th {\n",
       "        text-align: right;\n",
       "    }\n",
       "</style>\n",
       "<table border=\"1\" class=\"dataframe\">\n",
       "  <thead>\n",
       "    <tr style=\"text-align: right;\">\n",
       "      <th></th>\n",
       "      <th>year</th>\n",
       "      <th>make</th>\n",
       "      <th>model</th>\n",
       "      <th>trim</th>\n",
       "      <th>body</th>\n",
       "      <th>transmission</th>\n",
       "      <th>condition</th>\n",
       "      <th>odometer</th>\n",
       "      <th>sellingprice</th>\n",
       "    </tr>\n",
       "  </thead>\n",
       "  <tbody>\n",
       "    <tr>\n",
       "      <th>0</th>\n",
       "      <td>2015</td>\n",
       "      <td>kia</td>\n",
       "      <td>Sorento</td>\n",
       "      <td>LX</td>\n",
       "      <td>suv</td>\n",
       "      <td>automatic</td>\n",
       "      <td>5.0</td>\n",
       "      <td>16639.0</td>\n",
       "      <td>21500</td>\n",
       "    </tr>\n",
       "    <tr>\n",
       "      <th>1</th>\n",
       "      <td>2015</td>\n",
       "      <td>kia</td>\n",
       "      <td>Sorento</td>\n",
       "      <td>LX</td>\n",
       "      <td>suv</td>\n",
       "      <td>automatic</td>\n",
       "      <td>5.0</td>\n",
       "      <td>9393.0</td>\n",
       "      <td>21500</td>\n",
       "    </tr>\n",
       "    <tr>\n",
       "      <th>2</th>\n",
       "      <td>2014</td>\n",
       "      <td>bmw</td>\n",
       "      <td>3 Series</td>\n",
       "      <td>328i SULEV</td>\n",
       "      <td>sedan</td>\n",
       "      <td>automatic</td>\n",
       "      <td>4.5</td>\n",
       "      <td>1331.0</td>\n",
       "      <td>30000</td>\n",
       "    </tr>\n",
       "    <tr>\n",
       "      <th>3</th>\n",
       "      <td>2015</td>\n",
       "      <td>volvo</td>\n",
       "      <td>S60</td>\n",
       "      <td>T5</td>\n",
       "      <td>sedan</td>\n",
       "      <td>automatic</td>\n",
       "      <td>4.1</td>\n",
       "      <td>14282.0</td>\n",
       "      <td>27750</td>\n",
       "    </tr>\n",
       "    <tr>\n",
       "      <th>4</th>\n",
       "      <td>2014</td>\n",
       "      <td>bmw</td>\n",
       "      <td>6 Series Gran Coupe</td>\n",
       "      <td>650i</td>\n",
       "      <td>sedan</td>\n",
       "      <td>automatic</td>\n",
       "      <td>4.3</td>\n",
       "      <td>2641.0</td>\n",
       "      <td>67000</td>\n",
       "    </tr>\n",
       "  </tbody>\n",
       "</table>\n",
       "</div>"
      ],
      "text/plain": [
       "   year   make                model        trim   body transmission  \\\n",
       "0  2015    kia              Sorento          LX    suv    automatic   \n",
       "1  2015    kia              Sorento          LX    suv    automatic   \n",
       "2  2014    bmw             3 Series  328i SULEV  sedan    automatic   \n",
       "3  2015  volvo                  S60          T5  sedan    automatic   \n",
       "4  2014    bmw  6 Series Gran Coupe        650i  sedan    automatic   \n",
       "\n",
       "   condition  odometer  sellingprice  \n",
       "0        5.0   16639.0         21500  \n",
       "1        5.0    9393.0         21500  \n",
       "2        4.5    1331.0         30000  \n",
       "3        4.1   14282.0         27750  \n",
       "4        4.3    2641.0         67000  "
      ]
     },
     "execution_count": 7,
     "metadata": {},
     "output_type": "execute_result"
    }
   ],
   "source": [
    "car_var.head()"
   ]
  },
  {
   "cell_type": "markdown",
   "id": "2981b747-5ed6-46e0-adbd-f7d30a8b14aa",
   "metadata": {
    "tags": []
   },
   "source": [
    "#### Check for outliers"
   ]
  },
  {
   "cell_type": "code",
   "execution_count": 8,
   "id": "08402f2e-47cf-42bb-94e3-0d716fbcbb72",
   "metadata": {
    "tags": []
   },
   "outputs": [
    {
     "data": {
      "image/png": "[encoded data removed]",
      "text/plain": [
       "<Figure size 1500x750 with 5 Axes>"
      ]
     },
     "metadata": {
      "needs_background": "light"
     },
     "output_type": "display_data"
    }
   ],
   "source": [
    "size = 150\n",
    "plt.rcParams['figure.dpi'] = size\n",
    "plt.rcParams['savefig.dpi'] = size\n",
    "\n",
    "#check fo outliers\n",
    "fig, ax = plt.subplots(1, 5, figsize=(10, 5))\n",
    "plt.tight_layout(pad=5)\n",
    "\n",
    "ax = ax.ravel()\n",
    "for index, data in enumerate(['sellingprice', 'odometer', 'condition', 'year']):\n",
    "    sns.boxplot(data =car_var, y=data, ax=ax[index])\n",
    "    \n",
    "_  = car_var.year.value_counts().plot(kind='barh')\n",
    "ax[4].locator_params(axis='y', nbins=6)"
   ]
  },
  {
   "cell_type": "code",
   "execution_count": 9,
   "id": "c05f7a0d-d866-4f18-92bf-2fe9c2fc25f2",
   "metadata": {},
   "outputs": [
    {
     "data": {
      "image/png": "[encoded data removed]",
      "text/plain": [
       "<Figure size 900x400 with 2 Axes>"
      ]
     },
     "metadata": {
      "needs_background": "light"
     },
     "output_type": "display_data"
    }
   ],
   "source": [
    "size = 100\n",
    "plt.rcParams['figure.dpi'] = size\n",
    "plt.rcParams['savefig.dpi'] = size\n",
    "#check for the conditions and odometer of cars with very high selling-price\n",
    "quartiles = np.quantile(car_var.sellingprice, [0.25, 0.75])\n",
    "IQR = quartiles[1] - quartiles[0]\n",
    "upper_bound = quartiles[1] + (1.5 * IQR)\n",
    "\n",
    "#plot a histogram of the condition and odometer variable for this outliers\n",
    "high_selling_price_cars = car_var[car_var.sellingprice >= upper_bound]\n",
    "axis = high_selling_price_cars[['odometer', 'condition']].hist(figsize=(9, 4), bins=20, grid=False)\n",
    "\n",
    "axis[0,0].axvline(high_selling_price_cars.odometer.mean(), color='red', lw = 2, ls='dashed')\n",
    "axis[0,1].axvline(high_selling_price_cars.condition.mean(), color='red', lw = 2, ls='dashed')\n",
    "axis[0,0].locator_params(axis='x', nbins=6)\n",
    "\n",
    "_ = plt.suptitle('Outliers: cars with extreme (very high) selling price', y = 1.05)\n",
    "\n"
   ]
  },
  {
   "cell_type": "code",
   "execution_count": 10,
   "id": "9b8d0562-f880-4e39-97d7-118ecab217bd",
   "metadata": {},
   "outputs": [
    {
     "data": {
      "image/png": "[encoded data removed]",
      "text/plain": [
       "<Figure size 900x400 with 2 Axes>"
      ]
     },
     "metadata": {
      "needs_background": "light"
     },
     "output_type": "display_data"
    }
   ],
   "source": [
    "#check for the conditions and sellingprice of cars with very high odometer\n",
    "quartiles = np.quantile(car_var.odometer, [0.25, 0.75])\n",
    "IQR = quartiles[1] - quartiles[0]\n",
    "upper_bound = quartiles[1] + (1.5 * IQR)\n",
    "\n",
    "high_odometer_cars = car_var[car_var.odometer >= upper_bound]\n",
    "axis = high_odometer_cars[['sellingprice', 'condition']].hist(figsize=(9, 4), bins=20, grid=False)\n",
    "\n",
    "_ = axis[0,0].axvline(high_odometer_cars.sellingprice.mean(), color='red', lw = 2, ls='dashed')\n",
    "_ = axis[0,1].axvline(high_odometer_cars.condition.mean(), color='red', lw = 2, ls='dashed')\n",
    "\n",
    "\n",
    "_ = plt.suptitle('Outliers: cars with extreme (very high) odometer price value', y=1.05)"
   ]
  },
  {
   "cell_type": "markdown",
   "id": "5b9c9711-8d97-455b-aafc-0780553e82d7",
   "metadata": {
    "tags": []
   },
   "source": [
    " <ul style = \"background-color: #f0f5f5; \n",
    "            border-radius: 5px; padding: 15px 30px;\n",
    "            font-size: 15px; line-height: 2em\">\n",
    "<li>Initially there seem to be outliers in the car prices. but a deeper look into the datasets reveals that these high-priced cars a perculiar to specific cars models which  includes  <code>\n",
    "    bmw', 'chevrolet', 'mercedes-benz', 'lexus', 'land rover',\n",
    "   'porsche', 'audi', 'ferrari', 'jaguar', 'nissan', 'bentley',\n",
    "   'ford', 'rolls-royce', 'infiniti', 'maserati', 'cadillac', 'tesla',\n",
    "   'toyota', 'jeep', 'gmc', 'aston martin', 'fisker', 'hyundai',\n",
    "   'lamborghini', 'lincoln', 'ram', 'dodge'</code>\n",
    "<br>Also checking the conditions of these high-priced cars shows left-skewed distribution with an average condition of <code>4.26</code> These extreme value are legitimate observations that is a natural part of the population being studeid, so I would  leave it in the dataset.</li>\n",
    "<li>This equally holds  for cars with very high odometer values: Plotting the histogram for the conditions shows  left skewed distribution with an average condition of <code>2.3</code> and average odometer of <code>2.5k</code> </li>\n",
    "<li>The year variable consist of extreme values too. These are cars sold before 2000. A barh plot shows that very few cars where sold before 2000 when compared with subsequent years. These data points in these categories would be dropped, as the model might learn the noise if included</li>\n",
    "</ul>"
   ]
  },
  {
   "cell_type": "code",
   "execution_count": 11,
   "id": "0f7a113c-7d6f-4730-9172-b53734775c44",
   "metadata": {},
   "outputs": [],
   "source": [
    "#drop cars sold bofore 2000\n",
    "car_var = car_var[car_var.year > 1999]"
   ]
  },
  {
   "cell_type": "code",
   "execution_count": 12,
   "id": "accef882-d4a5-4008-bb42-bc59f09efe5f",
   "metadata": {
    "tags": []
   },
   "outputs": [
    {
     "data": {
      "text/html": [
       "<div>\n",
       "<style scoped>\n",
       "    .dataframe tbody tr th:only-of-type {\n",
       "        vertical-align: middle;\n",
       "    }\n",
       "\n",
       "    .dataframe tbody tr th {\n",
       "        vertical-align: top;\n",
       "    }\n",
       "\n",
       "    .dataframe thead th {\n",
       "        text-align: right;\n",
       "    }\n",
       "</style>\n",
       "<table border=\"1\" class=\"dataframe\">\n",
       "  <thead>\n",
       "    <tr style=\"text-align: right;\">\n",
       "      <th></th>\n",
       "      <th>year</th>\n",
       "      <th>make</th>\n",
       "      <th>model</th>\n",
       "      <th>trim</th>\n",
       "      <th>body</th>\n",
       "      <th>transmission</th>\n",
       "      <th>condition</th>\n",
       "      <th>odometer</th>\n",
       "      <th>sellingprice</th>\n",
       "    </tr>\n",
       "  </thead>\n",
       "  <tbody>\n",
       "    <tr>\n",
       "      <th>35618</th>\n",
       "      <td>2003</td>\n",
       "      <td>mercedes-benz</td>\n",
       "      <td>E-Class</td>\n",
       "      <td>E500</td>\n",
       "      <td>sedan</td>\n",
       "      <td>automatic</td>\n",
       "      <td>2.1</td>\n",
       "      <td>1.0</td>\n",
       "      <td>1</td>\n",
       "    </tr>\n",
       "    <tr>\n",
       "      <th>274185</th>\n",
       "      <td>2014</td>\n",
       "      <td>ford</td>\n",
       "      <td>E-Series Van</td>\n",
       "      <td>E-250</td>\n",
       "      <td>e-series van</td>\n",
       "      <td>automatic</td>\n",
       "      <td>4.1</td>\n",
       "      <td>31886.0</td>\n",
       "      <td>1</td>\n",
       "    </tr>\n",
       "  </tbody>\n",
       "</table>\n",
       "</div>"
      ],
      "text/plain": [
       "        year           make         model   trim          body transmission  \\\n",
       "35618   2003  mercedes-benz       E-Class   E500         sedan    automatic   \n",
       "274185  2014           ford  E-Series Van  E-250  e-series van    automatic   \n",
       "\n",
       "        condition  odometer  sellingprice  \n",
       "35618         2.1       1.0             1  \n",
       "274185        4.1   31886.0             1  "
      ]
     },
     "execution_count": 12,
     "metadata": {},
     "output_type": "execute_result"
    }
   ],
   "source": [
    "#check fo cars with abnormal selling\n",
    "car_var[car_var.sellingprice < 100]"
   ]
  },
  {
   "cell_type": "markdown",
   "id": "14933d2a-82db-48f8-b3fd-9a0fc6d5f208",
   "metadata": {},
   "source": [
    " <ul style = \"background-color: #f0f5f5; \n",
    "            border-radius: 5px; padding: 15px 30px;\n",
    "            font-size: 15px; line-height: 2em\">\n",
    "<li>    The above dataframe shows three data points with a value of 1 as selling price which is very rare and unlikey. Probably, this might have been a result of error and will definitely not be good for the model\n",
    "    <li>This rows would be removed</li>\n",
    "</li>\n",
    "</ul>"
   ]
  },
  {
   "cell_type": "code",
   "execution_count": 13,
   "id": "a0c0d813-2d9f-4f87-b65c-07fd909fbda7",
   "metadata": {},
   "outputs": [
    {
     "data": {
      "text/plain": [
       "(526234, 9)"
      ]
     },
     "execution_count": 13,
     "metadata": {},
     "output_type": "execute_result"
    }
   ],
   "source": [
    "#drop rows with 1 as selling price\n",
    "car_var = car_var[car_var.sellingprice > 100]\n",
    "car_var.shape"
   ]
  },
  {
   "cell_type": "code",
   "execution_count": 14,
   "id": "cd28a7b8-4e7b-410f-b950-75de2f3570aa",
   "metadata": {
    "tags": []
   },
   "outputs": [
    {
     "data": {
      "text/html": [
       "<div>\n",
       "<style scoped>\n",
       "    .dataframe tbody tr th:only-of-type {\n",
       "        vertical-align: middle;\n",
       "    }\n",
       "\n",
       "    .dataframe tbody tr th {\n",
       "        vertical-align: top;\n",
       "    }\n",
       "\n",
       "    .dataframe thead th {\n",
       "        text-align: right;\n",
       "    }\n",
       "</style>\n",
       "<table border=\"1\" class=\"dataframe\">\n",
       "  <thead>\n",
       "    <tr style=\"text-align: right;\">\n",
       "      <th></th>\n",
       "      <th>year</th>\n",
       "      <th>make</th>\n",
       "      <th>model</th>\n",
       "      <th>trim</th>\n",
       "      <th>body</th>\n",
       "      <th>transmission</th>\n",
       "      <th>condition</th>\n",
       "      <th>odometer</th>\n",
       "      <th>sellingprice</th>\n",
       "    </tr>\n",
       "  </thead>\n",
       "  <tbody>\n",
       "    <tr>\n",
       "      <th>665</th>\n",
       "      <td>2013</td>\n",
       "      <td>nissan</td>\n",
       "      <td>Maxima</td>\n",
       "      <td>3.5 S</td>\n",
       "      <td>sedan</td>\n",
       "      <td>automatic</td>\n",
       "      <td>1.0</td>\n",
       "      <td>1.0</td>\n",
       "      <td>1000</td>\n",
       "    </tr>\n",
       "    <tr>\n",
       "      <th>2776</th>\n",
       "      <td>2009</td>\n",
       "      <td>honda</td>\n",
       "      <td>Civic</td>\n",
       "      <td>LX</td>\n",
       "      <td>sedan</td>\n",
       "      <td>automatic</td>\n",
       "      <td>3.0</td>\n",
       "      <td>1.0</td>\n",
       "      <td>1000</td>\n",
       "    </tr>\n",
       "    <tr>\n",
       "      <th>2892</th>\n",
       "      <td>2008</td>\n",
       "      <td>honda</td>\n",
       "      <td>Civic</td>\n",
       "      <td>LX</td>\n",
       "      <td>sedan</td>\n",
       "      <td>automatic</td>\n",
       "      <td>1.0</td>\n",
       "      <td>1.0</td>\n",
       "      <td>1300</td>\n",
       "    </tr>\n",
       "    <tr>\n",
       "      <th>2903</th>\n",
       "      <td>2008</td>\n",
       "      <td>chrysler</td>\n",
       "      <td>300</td>\n",
       "      <td>LX</td>\n",
       "      <td>sedan</td>\n",
       "      <td>automatic</td>\n",
       "      <td>1.9</td>\n",
       "      <td>1.0</td>\n",
       "      <td>1300</td>\n",
       "    </tr>\n",
       "    <tr>\n",
       "      <th>2966</th>\n",
       "      <td>2008</td>\n",
       "      <td>jeep</td>\n",
       "      <td>Compass</td>\n",
       "      <td>Sport</td>\n",
       "      <td>suv</td>\n",
       "      <td>automatic</td>\n",
       "      <td>2.0</td>\n",
       "      <td>1.0</td>\n",
       "      <td>1800</td>\n",
       "    </tr>\n",
       "    <tr>\n",
       "      <th>...</th>\n",
       "      <td>...</td>\n",
       "      <td>...</td>\n",
       "      <td>...</td>\n",
       "      <td>...</td>\n",
       "      <td>...</td>\n",
       "      <td>...</td>\n",
       "      <td>...</td>\n",
       "      <td>...</td>\n",
       "      <td>...</td>\n",
       "    </tr>\n",
       "    <tr>\n",
       "      <th>528914</th>\n",
       "      <td>2012</td>\n",
       "      <td>ford</td>\n",
       "      <td>Taurus</td>\n",
       "      <td>SE</td>\n",
       "      <td>sedan</td>\n",
       "      <td>automatic</td>\n",
       "      <td>3.3</td>\n",
       "      <td>1.0</td>\n",
       "      <td>3700</td>\n",
       "    </tr>\n",
       "    <tr>\n",
       "      <th>529010</th>\n",
       "      <td>2015</td>\n",
       "      <td>jeep</td>\n",
       "      <td>Grand Cherokee</td>\n",
       "      <td>Limited</td>\n",
       "      <td>suv</td>\n",
       "      <td>automatic</td>\n",
       "      <td>4.0</td>\n",
       "      <td>6.0</td>\n",
       "      <td>35000</td>\n",
       "    </tr>\n",
       "    <tr>\n",
       "      <th>531641</th>\n",
       "      <td>2015</td>\n",
       "      <td>honda</td>\n",
       "      <td>Fit</td>\n",
       "      <td>LX</td>\n",
       "      <td>hatchback</td>\n",
       "      <td>manual</td>\n",
       "      <td>4.7</td>\n",
       "      <td>6.0</td>\n",
       "      <td>13000</td>\n",
       "    </tr>\n",
       "    <tr>\n",
       "      <th>532164</th>\n",
       "      <td>2001</td>\n",
       "      <td>dodge</td>\n",
       "      <td>Ram Pickup 1500</td>\n",
       "      <td>ST</td>\n",
       "      <td>regular cab</td>\n",
       "      <td>automatic</td>\n",
       "      <td>1.0</td>\n",
       "      <td>1.0</td>\n",
       "      <td>300</td>\n",
       "    </tr>\n",
       "    <tr>\n",
       "      <th>533601</th>\n",
       "      <td>2015</td>\n",
       "      <td>nissan</td>\n",
       "      <td>Altima</td>\n",
       "      <td>2.5 S</td>\n",
       "      <td>sedan</td>\n",
       "      <td>automatic</td>\n",
       "      <td>1.0</td>\n",
       "      <td>1.0</td>\n",
       "      <td>4000</td>\n",
       "    </tr>\n",
       "  </tbody>\n",
       "</table>\n",
       "<p>1081 rows × 9 columns</p>\n",
       "</div>"
      ],
      "text/plain": [
       "        year      make            model     trim         body transmission  \\\n",
       "665     2013    nissan           Maxima    3.5 S        sedan    automatic   \n",
       "2776    2009     honda            Civic       LX        sedan    automatic   \n",
       "2892    2008     honda            Civic       LX        sedan    automatic   \n",
       "2903    2008  chrysler              300       LX        sedan    automatic   \n",
       "2966    2008      jeep          Compass    Sport          suv    automatic   \n",
       "...      ...       ...              ...      ...          ...          ...   \n",
       "528914  2012      ford           Taurus       SE        sedan    automatic   \n",
       "529010  2015      jeep   Grand Cherokee  Limited          suv    automatic   \n",
       "531641  2015     honda              Fit       LX    hatchback       manual   \n",
       "532164  2001     dodge  Ram Pickup 1500       ST  regular cab    automatic   \n",
       "533601  2015    nissan           Altima    2.5 S        sedan    automatic   \n",
       "\n",
       "        condition  odometer  sellingprice  \n",
       "665           1.0       1.0          1000  \n",
       "2776          3.0       1.0          1000  \n",
       "2892          1.0       1.0          1300  \n",
       "2903          1.9       1.0          1300  \n",
       "2966          2.0       1.0          1800  \n",
       "...           ...       ...           ...  \n",
       "528914        3.3       1.0          3700  \n",
       "529010        4.0       6.0         35000  \n",
       "531641        4.7       6.0         13000  \n",
       "532164        1.0       1.0           300  \n",
       "533601        1.0       1.0          4000  \n",
       "\n",
       "[1081 rows x 9 columns]"
      ]
     },
     "execution_count": 14,
     "metadata": {},
     "output_type": "execute_result"
    }
   ],
   "source": [
    "# #select cars with very low odometer and low condition\n",
    "car_var[ (car_var.odometer < 10)]"
   ]
  },
  {
   "cell_type": "markdown",
   "id": "6f2ce609-ff56-4e63-96af-22e4132e9a74",
   "metadata": {},
   "source": [
    " <ul style = \"background-color: #f0f5f5; \n",
    "            border-radius: 5px; padding: 15px 30px;\n",
    "            font-size: 15px; line-height: 2em\">\n",
    "<li>   It is very unlikely for a car to have an odometer value of 1.0, unless in rare situations where the car had an accident after a little period of time. Perhaps, the following data points in the above dataframe suggests that this values might be as a result of error, therefore they'll be dropped as this will affect the model\n",
    "</li>\n",
    "</ul>"
   ]
  },
  {
   "cell_type": "code",
   "execution_count": 15,
   "id": "5ecec38d-c972-4b35-a961-25b08c93c792",
   "metadata": {},
   "outputs": [],
   "source": [
    "car_var = car_var[ (car_var.odometer > 10)]"
   ]
  },
  {
   "cell_type": "code",
   "execution_count": 16,
   "id": "9a8f9cdb-8d7f-48a8-99cb-115067a7b2ef",
   "metadata": {},
   "outputs": [
    {
     "data": {
      "text/plain": [
       "(525125, 9)"
      ]
     },
     "execution_count": 16,
     "metadata": {},
     "output_type": "execute_result"
    }
   ],
   "source": [
    "car_var.shape"
   ]
  },
  {
   "cell_type": "markdown",
   "id": "a7c07120-4697-4ffc-abac-f58489b083c5",
   "metadata": {
    "tags": []
   },
   "source": [
    "### Build a mulit-linear regression"
   ]
  },
  {
   "cell_type": "markdown",
   "id": "7e1fbde5-5a6a-4438-914a-543b6ea7e9f5",
   "metadata": {},
   "source": [
    "<p  style = \"background-color: #f0f5f5; \n",
    "            border-radius: 5px; padding: 15px 30px;\n",
    "            font-size: 15px; line-height: 2em\">\n",
    "I have assumed that the relationship between the predictors and the target variable is linear. Hence a linear model would be built\n",
    "</p>"
   ]
  },
  {
   "cell_type": "markdown",
   "id": "61485d97-e7fb-434a-b4e2-2440c8254c32",
   "metadata": {},
   "source": [
    "<p style = \"background-color: #f0f5f5; \n",
    "            border-radius: 5px; padding: 15px 30px;\n",
    "            font-size: 15px; line-height: 2em\">\n",
    "    The <code>selling-price</code> and the <code>odometer</code>variables have a very high variance and higher dimension space which would bias a linear model. To solve this problem, I would reduce the dimension of the variables by Standardizing using StandardScaler\n",
    "</p>"
   ]
  },
  {
   "cell_type": "markdown",
   "id": "3e5175fe-ea99-4f91-8150-94e2b80f5230",
   "metadata": {},
   "source": [
    "<p style = \"background-color: #f0f5f5; \n",
    "            border-radius: 5px; padding: 15px 30px;\n",
    "            font-size: 15px; line-height: 2em\">\n",
    "    Most of the feature variables are categorical. I would Use OneHotEncoding to convert them into numbers\n",
    "</p>"
   ]
  },
  {
   "cell_type": "code",
   "execution_count": 17,
   "id": "a7a49904-ddb8-45a1-bd3f-3e4989a76c75",
   "metadata": {},
   "outputs": [
    {
     "data": {
      "text/html": [
       "<div>\n",
       "<style scoped>\n",
       "    .dataframe tbody tr th:only-of-type {\n",
       "        vertical-align: middle;\n",
       "    }\n",
       "\n",
       "    .dataframe tbody tr th {\n",
       "        vertical-align: top;\n",
       "    }\n",
       "\n",
       "    .dataframe thead th {\n",
       "        text-align: right;\n",
       "    }\n",
       "</style>\n",
       "<table border=\"1\" class=\"dataframe\">\n",
       "  <thead>\n",
       "    <tr style=\"text-align: right;\">\n",
       "      <th></th>\n",
       "      <th>year</th>\n",
       "      <th>make</th>\n",
       "      <th>model</th>\n",
       "      <th>trim</th>\n",
       "      <th>body</th>\n",
       "      <th>transmission</th>\n",
       "      <th>condition</th>\n",
       "      <th>odometer</th>\n",
       "      <th>sellingprice</th>\n",
       "    </tr>\n",
       "  </thead>\n",
       "  <tbody>\n",
       "    <tr>\n",
       "      <th>0</th>\n",
       "      <td>2015</td>\n",
       "      <td>kia</td>\n",
       "      <td>Sorento</td>\n",
       "      <td>LX</td>\n",
       "      <td>suv</td>\n",
       "      <td>automatic</td>\n",
       "      <td>5.0</td>\n",
       "      <td>16639.0</td>\n",
       "      <td>21500</td>\n",
       "    </tr>\n",
       "    <tr>\n",
       "      <th>1</th>\n",
       "      <td>2015</td>\n",
       "      <td>kia</td>\n",
       "      <td>Sorento</td>\n",
       "      <td>LX</td>\n",
       "      <td>suv</td>\n",
       "      <td>automatic</td>\n",
       "      <td>5.0</td>\n",
       "      <td>9393.0</td>\n",
       "      <td>21500</td>\n",
       "    </tr>\n",
       "    <tr>\n",
       "      <th>2</th>\n",
       "      <td>2014</td>\n",
       "      <td>bmw</td>\n",
       "      <td>3 Series</td>\n",
       "      <td>328i SULEV</td>\n",
       "      <td>sedan</td>\n",
       "      <td>automatic</td>\n",
       "      <td>4.5</td>\n",
       "      <td>1331.0</td>\n",
       "      <td>30000</td>\n",
       "    </tr>\n",
       "    <tr>\n",
       "      <th>3</th>\n",
       "      <td>2015</td>\n",
       "      <td>volvo</td>\n",
       "      <td>S60</td>\n",
       "      <td>T5</td>\n",
       "      <td>sedan</td>\n",
       "      <td>automatic</td>\n",
       "      <td>4.1</td>\n",
       "      <td>14282.0</td>\n",
       "      <td>27750</td>\n",
       "    </tr>\n",
       "    <tr>\n",
       "      <th>4</th>\n",
       "      <td>2014</td>\n",
       "      <td>bmw</td>\n",
       "      <td>6 Series Gran Coupe</td>\n",
       "      <td>650i</td>\n",
       "      <td>sedan</td>\n",
       "      <td>automatic</td>\n",
       "      <td>4.3</td>\n",
       "      <td>2641.0</td>\n",
       "      <td>67000</td>\n",
       "    </tr>\n",
       "  </tbody>\n",
       "</table>\n",
       "</div>"
      ],
      "text/plain": [
       "   year   make                model        trim   body transmission  \\\n",
       "0  2015    kia              Sorento          LX    suv    automatic   \n",
       "1  2015    kia              Sorento          LX    suv    automatic   \n",
       "2  2014    bmw             3 Series  328i SULEV  sedan    automatic   \n",
       "3  2015  volvo                  S60          T5  sedan    automatic   \n",
       "4  2014    bmw  6 Series Gran Coupe        650i  sedan    automatic   \n",
       "\n",
       "   condition  odometer  sellingprice  \n",
       "0        5.0   16639.0         21500  \n",
       "1        5.0    9393.0         21500  \n",
       "2        4.5    1331.0         30000  \n",
       "3        4.1   14282.0         27750  \n",
       "4        4.3    2641.0         67000  "
      ]
     },
     "execution_count": 17,
     "metadata": {},
     "output_type": "execute_result"
    }
   ],
   "source": [
    "#select dataset\n",
    "car_var_1 = car_var.copy(deep=True)\n",
    "car_var_1.head()"
   ]
  },
  {
   "cell_type": "code",
   "execution_count": 64,
   "id": "2593a443-6845-4f62-86a4-521a5e61164f",
   "metadata": {},
   "outputs": [],
   "source": [
    "#select feature and target variables\n",
    "features = car_var_1[['year', 'trim', 'make', 'body', 'odometer', 'condition', 'model', 'transmission']]\n",
    "target = car_var_1.sellingprice\n",
    "\n",
    "#convert categorical variables into numbers using OneHotEncoding\n",
    "categorical_features = [ 'trim', 'make', 'model', 'body', 'trim']\n",
    "numerical_features = ['year', 'condition', 'odometer']\n",
    "\n",
    "from sklearn.preprocessing import OneHotEncoder, StandardScaler\n",
    "\n",
    "#create a oneHotEncoder object with maximum_category = 500\n",
    "encoder = OneHotEncoder(min_frequency=800, handle_unknown='ignore', \n",
    "                        max_categories=45, drop='if_binary')\n",
    "\n",
    "#encode the categorical variables\n",
    "encoded_cat_df = pd.DataFrame(encoder.fit_transform(features[categorical_features]).toarray(), columns=encoder.get_feature_names_out())\n",
    "\n",
    "#scale the numerical features: odometer, condition, year\n",
    "scaler = StandardScaler()\n",
    "scaled_num_df = pd.DataFrame(scaler.fit_transform(features[numerical_features]), columns=numerical_features)\n",
    "\n",
    "#join the encoded categorical features with the numerical features datframe\n",
    "features_ = encoded_cat_df.join(scaled_num_df)"
   ]
  },
  {
   "cell_type": "code",
   "execution_count": 67,
   "id": "c86e60da-1981-4723-9e24-b3f460394a89",
   "metadata": {},
   "outputs": [
    {
     "data": {
      "text/plain": [
       "(525125, 194)"
      ]
     },
     "execution_count": 67,
     "metadata": {},
     "output_type": "execute_result"
    }
   ],
   "source": [
    "features_.shape"
   ]
  },
  {
   "cell_type": "code",
   "execution_count": 70,
   "id": "cbde66d2-4d4b-46b8-a9e0-2aae201b5461",
   "metadata": {},
   "outputs": [],
   "source": [
    "#split data into training and test sets\n",
    "import sklearn.model_selection as model_selection\n",
    "X_train, X_test, y_train, y_test = model_selection.train_test_split(features_, target, test_size=0.3, \n",
    "                                                                    shuffle=True, random_state=3)\n",
    "\n",
    "#create an instance of LinearRegression\n",
    "import sklearn.linear_model as linear_model\n",
    "reg = linear_model.LinearRegression()\n",
    "\n",
    "#fit the training data\n",
    "reg.fit(X_train, y_train)\n",
    "\n",
    "#predict on the test data\n",
    "y_pred = reg.predict(X_test)\n",
    "\n",
    "#fit the training data\n",
    "reg.fit(X_train, y_train)\n",
    "\n",
    "#predict on the test data\n",
    "y_pred = reg.predict(X_test)"
   ]
  },
  {
   "cell_type": "code",
   "execution_count": 62,
   "id": "aad823e3-6a45-4013-8b0a-73bcfdc31816",
   "metadata": {
    "tags": []
   },
   "outputs": [],
   "source": [
    "#create a function that takes a model and inputs and computes the metrics\n",
    "import sklearn.metrics as metrics\n",
    "def compute_model_metrics(model, X_test, y_test, y_pred):\n",
    "    \"\"\"This function takes in three arguments: a model the y_test data and the predicted y values\n",
    "       and then computes the RSquared and RMSE score\n",
    "       \n",
    "       Args:\n",
    "           model: the linear model\n",
    "           y_pred: an array of predicted values using the X_test\n",
    "           \n",
    "        Return: Score and RMSE\n",
    "    \"\"\"\n",
    "    \n",
    "    score = round(model.score(X_test, y_test), 4)\n",
    "    rmse = round(np.sqrt(metrics.mean_squared_error(y_test, y_pred)), 4)\n",
    "    return {'Score': score, 'RMSE': rmse}\n",
    "    "
   ]
  },
  {
   "cell_type": "code",
   "execution_count": 69,
   "id": "053a1377-030f-4f81-9de6-a4a64f0b93fc",
   "metadata": {},
   "outputs": [
    {
     "data": {
      "text/plain": [
       "{'Score': 0.7264, 'RMSE': 5047.7577}"
      ]
     },
     "execution_count": 69,
     "metadata": {},
     "output_type": "execute_result"
    }
   ],
   "source": [
    "compute_model_metrics(reg, X_test, y_test, y_pred)"
   ]
  },
  {
   "cell_type": "markdown",
   "id": "2aed325b-d1b9-4f9c-aed2-f073bb967653",
   "metadata": {},
   "source": [
    "<ul>\n",
    "   <h3 >RSquared: <span style = \"color: green;\">.7349</span></h3>\n",
    "   <h3>RMSE: 4930.39</h3>\n",
    "<ul>\n"
   ]
  },
  {
   "cell_type": "markdown",
   "id": "11aff1e2-22e6-4951-8b15-a74ec185be20",
   "metadata": {},
   "source": [
    "## Synopsis"
   ]
  },
  {
   "cell_type": "markdown",
   "id": "a37f8872-2d6e-48b5-ae42-c12a991b27a2",
   "metadata": {},
   "source": [
    "\n",
    "<ul  style = \"background-color: #f0f5f5; \n",
    "            border-radius: 5px; padding: 15px 30px;\n",
    "            font-size: 15px; line-height: 2em\">\n",
    "    The model achieved an appreciable accuracy score and RMSE value. But There's need for improvement. \n",
    "    <h2>What can be done ?</h2>\n",
    "    <li>Non Linear Model: The initial assumption made about the relationship between the predictors and target may probably not be the case. There's a possibilty of havinga non-linear relationship between the target and     the predictors. Fitting a non-linear model using polynomialFeatures from scikit-learn preprocessing module will create additional features (+ the ones added by oneHot Encoding) which will further increase the    dimension of the dataset. Working with such dimension would be too computationally expensive</li>\n",
    "    <li>Another Model</li>      \n",
    "    <h2>What Worked ?</h2>\n",
    "     <li>Encoding: Encoding the categorical variables with oneHotEncoding did improve the model very well. The other encoding method utilized was ordinal encoding which performed worse than OneHot. This could be traced to the nature of the datasets and labels. All categorical variables in the dataset represents types and models of cars which are not in a particular order or rank</li>   \n",
    "    <li>Standardizing: Using standardScaler from sklearn, the numerical features such as year, odometer, condition were scaled down to avoid bias due to high dimensions</li>\n",
    "    <li>Removing Outliers: Dropping cars sold before the year 1999 improved the model accuracy. It turned out the models was learning the noise as very few cars were sold b4 then</li>\n",
    "</ul>"
   ]
  }
 ],
 "metadata": {
  "kernelspec": {
   "display_name": "Python 3 (ipykernel)",
   "language": "python",
   "name": "python3"
  },
  "language_info": {
   "codemirror_mode": {
    "name": "ipython",
    "version": 3
   },
   "file_extension": ".py",
   "mimetype": "text/x-python",
   "name": "python",
   "nbconvert_exporter": "python",
   "pygments_lexer": "ipython3",
   "version": "3.9.7"
  }
 },
 "nbformat": 4,
 "nbformat_minor": 5
}
